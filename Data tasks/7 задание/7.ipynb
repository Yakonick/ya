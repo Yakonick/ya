{
 "cells": [
  {
   "cell_type": "code",
   "execution_count": 4,
   "metadata": {},
   "outputs": [],
   "source": [
    "import statsmodels.api as sm\n",
    "import numpy as np\n",
    "\n",
    "x, y = 13581, 26004\n",
    "# x - Makbet, y - Gamlet"
   ]
  },
  {
   "cell_type": "code",
   "execution_count": 5,
   "metadata": {},
   "outputs": [
    {
     "name": "stdout",
     "output_type": "stream",
     "text": [
      "0.004731662996326655\n"
     ]
    }
   ],
   "source": [
    "z, p_value = sm.stats.proportions_ztest([456, 740], [x, y])  # количество слов \"и\"\n",
    "print(p_value)"
   ]
  },
  {
   "cell_type": "code",
   "execution_count": 6,
   "metadata": {},
   "outputs": [
    {
     "name": "stdout",
     "output_type": "stream",
     "text": [
      "3.2502050221631532e-09\n"
     ]
    }
   ],
   "source": [
    "z, p_value = sm.stats.proportions_ztest([89, 68], [x, y])  # количество слов \"а\"\n",
    "print(p_value)"
   ]
  },
  {
   "cell_type": "code",
   "execution_count": 7,
   "metadata": {},
   "outputs": [
    {
     "name": "stdout",
     "output_type": "stream",
     "text": [
      "0.9057415072211442\n"
     ]
    }
   ],
   "source": [
    "z, p_value = sm.stats.proportions_ztest([145, 281], [x, y])  # количество слов \"что\"\n",
    "print(p_value)"
   ]
  },
  {
   "cell_type": "code",
   "execution_count": 8,
   "metadata": {},
   "outputs": [
    {
     "name": "stdout",
     "output_type": "stream",
     "text": [
      "2.7323691389526655e-06\n"
     ]
    }
   ],
   "source": [
    "z, p_value = sm.stats.proportions_ztest([83, 77], [x, y])  # количество слов \"но\"\n",
    "print(p_value)"
   ]
  },
  {
   "cell_type": "code",
   "execution_count": 9,
   "metadata": {},
   "outputs": [
    {
     "name": "stdout",
     "output_type": "stream",
     "text": [
      "0.008231920019588886\n"
     ]
    }
   ],
   "source": [
    "z, p_value = sm.stats.proportions_ztest([37, 39], [x, y])  # количество слов \"о\"\n",
    "print(p_value)"
   ]
  },
  {
   "cell_type": "code",
   "execution_count": null,
   "metadata": {},
   "outputs": [],
   "source": []
  }
 ],
 "metadata": {
  "kernelspec": {
   "display_name": "Python 3",
   "language": "python",
   "name": "python3"
  },
  "language_info": {
   "codemirror_mode": {
    "name": "ipython",
    "version": 3
   },
   "file_extension": ".py",
   "mimetype": "text/x-python",
   "name": "python",
   "nbconvert_exporter": "python",
   "pygments_lexer": "ipython3",
   "version": "3.7.3"
  }
 },
 "nbformat": 4,
 "nbformat_minor": 2
}
